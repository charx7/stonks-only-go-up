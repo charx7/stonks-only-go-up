{
 "cells": [
  {
   "cell_type": "code",
   "execution_count": 1,
   "id": "saving-channels",
   "metadata": {},
   "outputs": [
    {
     "name": "stdout",
     "output_type": "stream",
     "text": [
      "/home/charx/python-virtual-environments/stonks-env/bin/python\n"
     ]
    }
   ],
   "source": [
    "!which python"
   ]
  },
  {
   "cell_type": "code",
   "execution_count": 48,
   "id": "documentary-integration",
   "metadata": {},
   "outputs": [],
   "source": [
    "from stonks.data.test_imports import say_hello\n",
    "from pandas_datareader import data\n",
    "\n",
    "\n",
    "# vanilla markotwitz + l2 regularized\n",
    "from pypfopt.expected_returns import mean_historical_return\n",
    "from pypfopt.risk_models import CovarianceShrinkage\n",
    "from pypfopt.efficient_frontier import EfficientFrontier\n",
    "from pypfopt import objective_functions \n",
    "\n",
    "\n",
    "# black litterman model\n",
    "from pypfopt import black_litterman\n",
    "from pypfopt.black_litterman import BlackLittermanModel\n",
    "from pypfopt.efficient_frontier import EfficientFrontier\n",
    "\n",
    "\n",
    "import yfinance as yf\n",
    "import pandas as pd\n",
    "import numpy as np\n",
    "import time"
   ]
  },
  {
   "cell_type": "code",
   "execution_count": 3,
   "id": "endless-alert",
   "metadata": {},
   "outputs": [],
   "source": [
    "tickers = [\n",
    "    'AMGN', # AMGEN inc -> biotech\n",
    "    'A', # Agilent -> biotech\n",
    "    'TMO', # Thermofisher -> biotech\n",
    "    'VRTX', # Vertex phrmaceuticals -> biotech\n",
    "    'BMRN', # Biomarine pharmaceuticals -> biotech\n",
    "    'PFE', # Pfizer -> biotech\n",
    "    'MRK', # Merk -> biotech\n",
    "    'TSM', # Taiwan semi-conductor -> chips\n",
    "    'QCOM', # Qualcomm -> chips\n",
    "    'XLNX', # Xilix -> chips\n",
    "    'NVDA', # NVIDIA -> chips (GPUS)\n",
    "    'AMD', # AMD -> CPUs (chips)\n",
    "    'ASML', # ASML chips\n",
    "    'MU', # Micorn chips (storage)\n",
    "    'BYND', # Beyond Meat food\n",
    "    'ADM', # Archer Daniels food,\n",
    "    'TSN', # Tyson foods\n",
    "    'EL', # cosmetics\n",
    "    'TWTR', # twitter -> social media\n",
    "    'FB', # facebook -> social media\n",
    "    'GOOGL', # google -> tech/cloud\n",
    "    'MSFT', # microsoft -> tech/cloud\n",
    "    'DDOG', # Datadog -> cloud\n",
    "    'ABNB', # AIRBNB -> travel/tech\n",
    "    'TEAM', # attlasian -> tech/cloud\n",
    "    'VMW', # VMWare -> tech/cloud\n",
    "    'DIS', # Disney -> travel/entretaiment\n",
    "    'NFLX', # Netflix -> tech/entretainement\n",
    "    'MNST', # Monster -> vicios Gen Z\n",
    "]"
   ]
  },
  {
   "cell_type": "code",
   "execution_count": 4,
   "id": "accredited-shaft",
   "metadata": {},
   "outputs": [],
   "source": [
    "# We would like all available data from 01/01/2000 until 12/31/2016.\n",
    "start_date = '2008-01-01'\n",
    "end_date = '2021-03-04'"
   ]
  },
  {
   "cell_type": "code",
   "execution_count": 5,
   "id": "revolutionary-coating",
   "metadata": {},
   "outputs": [],
   "source": [
    "curr_df = data.DataReader('TMO', 'yahoo', start_date, end_date)"
   ]
  },
  {
   "cell_type": "code",
   "execution_count": 6,
   "id": "living-recovery",
   "metadata": {},
   "outputs": [
    {
     "name": "stdout",
     "output_type": "stream",
     "text": [
      "AMGN\n",
      "A\n",
      "TMO\n",
      "VRTX\n",
      "BMRN\n",
      "PFE\n",
      "MRK\n",
      "TSM\n",
      "QCOM\n",
      "XLNX\n",
      "NVDA\n",
      "AMD\n",
      "ASML\n",
      "MU\n",
      "BYND\n",
      "ADM\n",
      "TSN\n",
      "EL\n",
      "TWTR\n",
      "FB\n",
      "GOOGL\n",
      "MSFT\n",
      "DDOG\n",
      "ABNB\n",
      "TEAM\n",
      "VMW\n",
      "DIS\n",
      "NFLX\n",
      "MNST\n"
     ]
    }
   ],
   "source": [
    "price_data = []\n",
    "for ticker in tickers:\n",
    "    print(ticker)\n",
    "    curr_df = data.DataReader(ticker, 'yahoo', start_date, end_date)\n",
    "    time.sleep(0.3)\n",
    "    price_data.append(curr_df['Adj Close'])\n",
    "    "
   ]
  },
  {
   "cell_type": "code",
   "execution_count": 7,
   "id": "auburn-choir",
   "metadata": {},
   "outputs": [],
   "source": [
    "# construct a df with the company values\n",
    "df_stocks = pd.concat(price_data, axis = 1)\n",
    "df_stocks.columns = tickers"
   ]
  },
  {
   "cell_type": "code",
   "execution_count": 19,
   "id": "representative-rough",
   "metadata": {},
   "outputs": [],
   "source": [
    "def back_fill_df(df, verbose = True):\n",
    "    df_cp = df.copy()\n",
    "    \n",
    "    tkrs = list(df.columns)\n",
    "    \n",
    "    for tiker in tkrs:\n",
    "        print(f'Backfilling: {tiker}') if verbose else 'continue'\n",
    "        #srs = df_cp[df_cp[tiker].isnull()][tiker]\n",
    "        srs = df_cp[~df_cp[tiker].isnull()][tiker]\n",
    "\n",
    "        # only do the backfill if the series requires it\n",
    "        if srs.shape[0] > 0:\n",
    "            bkfill_val = srs[0]\n",
    "            \n",
    "            print(f\"Backfilldate {srs.index[0]}\") if verbose else 'continue'\n",
    "            #bkfill_val = df_cp[df_cp.index == last_nan + pd.DateOffset(1)][ticker][0]\n",
    "            \n",
    "            print(f\"Backfilling with {bkfill_val}\") if verbose else 'continue'\n",
    "            df_cp[tiker] = df_cp[tiker].fillna(value = bkfill_val)\n",
    "    \n",
    "    return df_cp"
   ]
  },
  {
   "cell_type": "code",
   "execution_count": 20,
   "id": "cosmetic-spring",
   "metadata": {},
   "outputs": [
    {
     "name": "stdout",
     "output_type": "stream",
     "text": [
      "Backfilling: AMGN\n",
      "Backfilldate 2008-01-02 00:00:00\n",
      "Backfilling with 36.87551498413086\n",
      "Backfilling: A\n",
      "Backfilldate 2008-01-02 00:00:00\n",
      "Backfilling with 23.827491760253906\n",
      "Backfilling: TMO\n",
      "Backfilldate 2008-01-02 00:00:00\n",
      "Backfilling with 53.54214859008789\n",
      "Backfilling: VRTX\n",
      "Backfilldate 2008-01-02 00:00:00\n",
      "Backfilling with 23.149999618530273\n",
      "Backfilling: BMRN\n",
      "Backfilldate 2008-01-02 00:00:00\n",
      "Backfilling with 36.63999938964844\n",
      "Backfilling: PFE\n",
      "Backfilldate 2008-01-02 00:00:00\n",
      "Backfilling with 12.73065185546875\n",
      "Backfilling: MRK\n",
      "Backfilldate 2008-01-02 00:00:00\n",
      "Backfilling with 35.628963470458984\n",
      "Backfilling: TSM\n",
      "Backfilldate 2008-01-02 00:00:00\n",
      "Backfilling with 5.873227596282959\n",
      "Backfilling: QCOM\n",
      "Backfilldate 2008-01-02 00:00:00\n",
      "Backfilling with 27.58709144592285\n",
      "Backfilling: XLNX\n",
      "Backfilldate 2008-01-02 00:00:00\n",
      "Backfilling with 15.640898704528809\n",
      "Backfilling: NVDA\n",
      "Backfilldate 2008-01-02 00:00:00\n",
      "Backfilling with 30.349815368652344\n",
      "Backfilling: AMD\n",
      "Backfilldate 2008-01-02 00:00:00\n",
      "Backfilling with 7.139999866485596\n",
      "Backfilling: ASML\n",
      "Backfilldate 2008-01-02 00:00:00\n",
      "Backfilling with 21.072561264038086\n",
      "Backfilling: MU\n",
      "Backfilldate 2008-01-02 00:00:00\n",
      "Backfilling with 7.039999961853027\n",
      "Backfilling: BYND\n",
      "Backfilldate 2019-05-02 00:00:00\n",
      "Backfilling with 65.75\n",
      "Backfilling: ADM\n",
      "Backfilldate 2008-01-02 00:00:00\n",
      "Backfilling with 32.36418151855469\n",
      "Backfilling: TSN\n",
      "Backfilldate 2008-01-02 00:00:00\n",
      "Backfilling with 12.553523063659668\n",
      "Backfilling: EL\n",
      "Backfilldate 2008-01-02 00:00:00\n",
      "Backfilling with 18.439617156982422\n",
      "Backfilling: TWTR\n",
      "Backfilldate 2013-11-07 00:00:00\n",
      "Backfilling with 44.900001525878906\n",
      "Backfilling: FB\n",
      "Backfilldate 2012-05-18 00:00:00\n",
      "Backfilling with 38.22999954223633\n",
      "Backfilling: GOOGL\n",
      "Backfilldate 2008-01-02 00:00:00\n",
      "Backfilling with 342.93792724609375\n",
      "Backfilling: MSFT\n",
      "Backfilldate 2008-01-02 00:00:00\n",
      "Backfilling with 26.256372451782227\n",
      "Backfilling: DDOG\n",
      "Backfilldate 2019-09-19 00:00:00\n",
      "Backfilling with 37.54999923706055\n",
      "Backfilling: ABNB\n",
      "Backfilldate 2020-12-10 00:00:00\n",
      "Backfilling with 144.7100067138672\n",
      "Backfilling: TEAM\n",
      "Backfilldate 2015-12-09 00:00:00\n",
      "Backfilling with 21.0\n",
      "Backfilling: VMW\n",
      "Backfilldate 2008-01-02 00:00:00\n",
      "Backfilling with 70.27921295166016\n",
      "Backfilling: DIS\n",
      "Backfilldate 2008-01-02 00:00:00\n",
      "Backfilling with 27.01250457763672\n",
      "Backfilling: NFLX\n",
      "Backfilldate 2008-01-02 00:00:00\n",
      "Backfilling with 3.7642860412597656\n",
      "Backfilling: MNST\n",
      "Backfilldate 2008-01-02 00:00:00\n",
      "Backfilling with 7.196667194366455\n"
     ]
    }
   ],
   "source": [
    "df_stocks_bkfilled = back_fill_df(df_stocks, verbose = True)"
   ]
  },
  {
   "cell_type": "code",
   "execution_count": null,
   "id": "smoking-decimal",
   "metadata": {},
   "outputs": [],
   "source": []
  },
  {
   "cell_type": "code",
   "execution_count": 10,
   "id": "hydraulic-lending",
   "metadata": {},
   "outputs": [
    {
     "name": "stdout",
     "output_type": "stream",
     "text": [
      "OrderedDict([('AMGN', 0.03842), ('A', 0.0), ('TMO', 0.04795), ('VRTX', 0.03129), ('BMRN', 0.0), ('PFE', 0.0), ('MRK', 0.0), ('TSM', 0.09129), ('QCOM', 0.0), ('XLNX', 0.02304), ('NVDA', 0.0331), ('AMD', 0.00608), ('ASML', 0.0909), ('MU', 0.00725), ('BYND', 0.01082), ('ADM', 0.0), ('TSN', 0.03068), ('EL', 0.08941), ('TWTR', 0.0), ('FB', 0.05454), ('GOOGL', 0.01605), ('MSFT', 0.03967), ('DDOG', 0.0148), ('ABNB', 0.0), ('TEAM', 0.09595), ('VMW', 0.0), ('DIS', 0.03331), ('NFLX', 0.18158), ('MNST', 0.06386)])\n",
      "Expected annual return: 24.6%\n",
      "Annual volatility: 22.2%\n",
      "Sharpe Ratio: 1.02\n"
     ]
    },
    {
     "name": "stderr",
     "output_type": "stream",
     "text": [
      "/home/charx/python-virtual-environments/stonks-env/lib/python3.7/site-packages/pypfopt/efficient_frontier/efficient_frontier.py:248: UserWarning: max_sharpe transforms the optimization problem so additional objectives may not work as expected.\n",
      "  \"max_sharpe transforms the optimization problem so additional objectives may not work as expected.\"\n"
     ]
    },
    {
     "data": {
      "text/plain": [
       "(0.24625658844415546, 0.22192505951453703, 1.0195179802546577)"
      ]
     },
     "execution_count": 10,
     "metadata": {},
     "output_type": "execute_result"
    }
   ],
   "source": [
    "# get mean and cover matrices\n",
    "mu = mean_historical_return(df_stocks_bkfilled)\n",
    "S = CovarianceShrinkage(df_stocks_bkfilled).ledoit_wolf()\n",
    "\n",
    "# with l2 regularization to not have 0s in the weights\n",
    "\n",
    "ef = EfficientFrontier(mu, S)\n",
    "ef.add_objective(objective_functions.L2_reg, gamma=0.5)\n",
    "w = ef.max_sharpe()\n",
    "\n",
    "cleaned_weights = ef.clean_weights()\n",
    "ef.save_weights_to_file(\"weights.txt\")  # saves to file\n",
    "print(cleaned_weights)\n",
    "ef.portfolio_performance(verbose=True)"
   ]
  },
  {
   "cell_type": "markdown",
   "id": "wired-polls",
   "metadata": {},
   "source": [
    "# Black litterman"
   ]
  },
  {
   "cell_type": "code",
   "execution_count": 11,
   "id": "normal-draft",
   "metadata": {},
   "outputs": [],
   "source": [
    "mcaps = {}\n",
    "for t in tickers:\n",
    "    stock = yf.Ticker(t)\n",
    "    mcaps[t] = stock.info[\"marketCap\"]\n"
   ]
  },
  {
   "cell_type": "code",
   "execution_count": 12,
   "id": "thousand-deposit",
   "metadata": {},
   "outputs": [
    {
     "data": {
      "text/plain": [
       "{'AMGN': 131529105408,\n",
       " 'A': 35387625472,\n",
       " 'TMO': 175974268928,\n",
       " 'VRTX': 55106318336,\n",
       " 'BMRN': 14133646336,\n",
       " 'PFE': 191814696960,\n",
       " 'MRK': 185042288640,\n",
       " 'TSM': 561996627968,\n",
       " 'QCOM': 147396001792,\n",
       " 'XLNX': 29420974080,\n",
       " 'NVDA': 309045198848,\n",
       " 'AMD': 95112847360,\n",
       " 'ASML': 213559230464,\n",
       " 'MU': 99483320320,\n",
       " 'BYND': 8704644096,\n",
       " 'ADM': 32159064064,\n",
       " 'TSN': 26519736320,\n",
       " 'EL': 106248495104,\n",
       " 'TWTR': 53436342272,\n",
       " 'FB': 752582197248,\n",
       " 'GOOGL': 1417468313600,\n",
       " 'MSFT': 1746778193920,\n",
       " 'DDOG': 25193641984,\n",
       " 'ABNB': 107427127296,\n",
       " 'TEAM': 57066651648,\n",
       " 'VMW': 60333654016,\n",
       " 'DIS': 344881266688,\n",
       " 'NFLX': 228706566144,\n",
       " 'MNST': 45641596928}"
      ]
     },
     "execution_count": 12,
     "metadata": {},
     "output_type": "execute_result"
    }
   ],
   "source": [
    "mcaps"
   ]
  },
  {
   "cell_type": "code",
   "execution_count": 13,
   "id": "narrow-drinking",
   "metadata": {},
   "outputs": [
    {
     "name": "stdout",
     "output_type": "stream",
     "text": [
      "[*********************100%***********************]  1 of 1 completed\n",
      "Expected annual return: 31.3%\n",
      "Annual volatility: 21.5%\n",
      "Sharpe Ratio: 1.36\n"
     ]
    },
    {
     "name": "stderr",
     "output_type": "stream",
     "text": [
      "/home/charx/python-virtual-environments/stonks-env/lib/python3.7/site-packages/pypfopt/efficient_frontier/efficient_frontier.py:248: UserWarning: max_sharpe transforms the optimization problem so additional objectives may not work as expected.\n",
      "  \"max_sharpe transforms the optimization problem so additional objectives may not work as expected.\"\n"
     ]
    },
    {
     "data": {
      "text/plain": [
       "(0.3129777631349649, 0.21508591267733868, 1.362142966445579)"
      ]
     },
     "execution_count": 13,
     "metadata": {},
     "output_type": "execute_result"
    }
   ],
   "source": [
    "# get the market prices of the sp500\n",
    "sp500 = yf.download(\"SPY\", period=\"max\")[\"Adj Close\"]\n",
    "\n",
    "# declare our views of the market\n",
    "viewdict = {\n",
    "    \"ABNB\": 0.40,\n",
    "    \"DIS\": 0.30,\n",
    "    \"TSM\": 0.40,\n",
    "    \"NVDA\": 0.40,\n",
    "    \"QCOM\": 0.40,\n",
    "    \"TWTR\": 0.40,\n",
    "    \"DDOG\": 0.20,\n",
    "    \"EL\": 0.3,\n",
    "    \"MSFT\": 0.3,\n",
    "    \"AMD\": 0.4,\n",
    "    \"ASML\": 0.5,\n",
    "}\n",
    "\n",
    "# how confident we are on our views\n",
    "confidences = [\n",
    "    0.3,\n",
    "    0.8,\n",
    "    0.8,\n",
    "    0.7,\n",
    "    0.8,\n",
    "    0.5,\n",
    "    0.6,\n",
    "    0.7,\n",
    "    0.8,\n",
    "    0.9,\n",
    "    0.9,\n",
    "]\n",
    "\n",
    "\n",
    "S = CovarianceShrinkage(df_stocks_bkfilled).ledoit_wolf()\n",
    "delta = black_litterman.market_implied_risk_aversion(sp500)\n",
    "\n",
    "# get market priors\n",
    "market_prior = black_litterman.market_implied_prior_returns(mcaps, delta, S)\n",
    "\n",
    "# blmodel\n",
    "bl = BlackLittermanModel(S, pi = market_prior, absolute_views = viewdict, risk_aversion = delta, omega=\"idzorek\", view_confidences=confidences)\n",
    "\n",
    "ret_bl = bl.bl_returns() # mean matrix for black litterman\n",
    "S_bl = bl.bl_cov() # co-variance matrix for black litterman\n",
    "\n",
    "\n",
    "# then we allocate the portfolio using markowitz regularized\n",
    "ef = EfficientFrontier(ret_bl, S_bl)\n",
    "#ef.add_objective(objective_functions.L2_reg, gamma = 0.5)\n",
    "ef.add_objective(objective_functions.L2_reg)\n",
    "\n",
    "ef.max_sharpe()\n",
    "weights = ef.clean_weights()\n",
    "ef.portfolio_performance(verbose=True)"
   ]
  },
  {
   "cell_type": "code",
   "execution_count": 14,
   "id": "fundamental-philippines",
   "metadata": {},
   "outputs": [
    {
     "name": "stdout",
     "output_type": "stream",
     "text": [
      "AMGN pct: 0.0238 amnt: 113.4903\n",
      "A pct: 0.036 amnt: 171.666\n",
      "TMO pct: 0.02522 amnt: 120.26156999999999\n",
      "VRTX pct: 0.02689 amnt: 128.224965\n",
      "BMRN pct: 0.02584 amnt: 123.21803999999999\n",
      "PFE pct: 0.0199 amnt: 94.89315\n",
      "MRK pct: 0.01978 amnt: 94.32092999999999\n",
      "TSM pct: 0.05362 amnt: 255.68697\n",
      "QCOM pct: 0.05296 amnt: 252.53976\n",
      "XLNX pct: 0.04076 amnt: 194.36406\n",
      "NVDA pct: 0.0458 amnt: 218.3973\n",
      "AMD pct: 0.032 amnt: 152.592\n",
      "ASML pct: 0.07255 amnt: 345.954675\n",
      "MU pct: 0.05222 amnt: 249.01107000000002\n",
      "BYND pct: 0.02314 amnt: 110.34309\n",
      "ADM pct: 0.02921 amnt: 139.287885\n",
      "TSN pct: 0.02355 amnt: 112.298175\n",
      "EL pct: 0.03643 amnt: 173.716455\n",
      "TWTR pct: 0.04594 amnt: 219.06489000000002\n",
      "FB pct: 0.02654 amnt: 126.55599000000001\n",
      "GOOGL pct: 0.03979 amnt: 189.73861499999998\n",
      "MSFT pct: 0.03889 amnt: 185.446965\n",
      "DDOG pct: 0.02824 amnt: 134.66244\n",
      "ABNB pct: 0.03316 amnt: 158.12346000000002\n",
      "TEAM pct: 0.01827 amnt: 87.120495\n",
      "VMW pct: 0.03491 amnt: 166.468335\n",
      "DIS pct: 0.03612 amnt: 172.23821999999998\n",
      "NFLX pct: 0.02941 amnt: 140.241585\n",
      "MNST pct: 0.02903 amnt: 138.429555\n"
     ]
    }
   ],
   "source": [
    "capital = 4768.50\n",
    "\n",
    "total = 0\n",
    "for k, v in weights.items():\n",
    "    total += capital * v\n",
    "    print(f\"{k} pct: {v} amnt: {capital * v}\")\n"
   ]
  },
  {
   "cell_type": "code",
   "execution_count": 15,
   "id": "verified-album",
   "metadata": {},
   "outputs": [
    {
     "name": "stdout",
     "output_type": "stream",
     "text": [
      "AMGN pct: 0.0238 amnt: 14.2324\n",
      "A pct: 0.036 amnt: 21.528\n",
      "TMO pct: 0.02522 amnt: 15.08156\n",
      "VRTX pct: 0.02689 amnt: 16.08022\n",
      "BMRN pct: 0.02584 amnt: 15.452319999999999\n",
      "PFE pct: 0.0199 amnt: 11.9002\n",
      "MRK pct: 0.01978 amnt: 11.828439999999999\n",
      "TSM pct: 0.05362 amnt: 32.06476\n",
      "QCOM pct: 0.05296 amnt: 31.67008\n",
      "XLNX pct: 0.04076 amnt: 24.37448\n",
      "NVDA pct: 0.0458 amnt: 27.3884\n",
      "AMD pct: 0.032 amnt: 19.136\n",
      "ASML pct: 0.07255 amnt: 43.3849\n",
      "MU pct: 0.05222 amnt: 31.22756\n",
      "BYND pct: 0.02314 amnt: 13.837720000000001\n",
      "ADM pct: 0.02921 amnt: 17.46758\n",
      "TSN pct: 0.02355 amnt: 14.0829\n",
      "EL pct: 0.03643 amnt: 21.78514\n",
      "TWTR pct: 0.04594 amnt: 27.47212\n",
      "FB pct: 0.02654 amnt: 15.87092\n",
      "GOOGL pct: 0.03979 amnt: 23.79442\n",
      "MSFT pct: 0.03889 amnt: 23.25622\n",
      "DDOG pct: 0.02824 amnt: 16.887520000000002\n",
      "ABNB pct: 0.03316 amnt: 19.82968\n",
      "TEAM pct: 0.01827 amnt: 10.925460000000001\n",
      "VMW pct: 0.03491 amnt: 20.876179999999998\n",
      "DIS pct: 0.03612 amnt: 21.59976\n",
      "NFLX pct: 0.02941 amnt: 17.58718\n",
      "MNST pct: 0.02903 amnt: 17.35994\n"
     ]
    }
   ],
   "source": [
    "capital = 598\n",
    "\n",
    "total = 0\n",
    "for k, v in weights.items():\n",
    "    total += capital * v\n",
    "    print(f\"{k} pct: {v} amnt: {capital * v}\")"
   ]
  },
  {
   "cell_type": "markdown",
   "id": "above-shooting",
   "metadata": {},
   "source": [
    "# VaR"
   ]
  },
  {
   "cell_type": "code",
   "execution_count": null,
   "id": "roman-creator",
   "metadata": {},
   "outputs": [],
   "source": [
    "#Backfilldate 2019-09-19 00:00:00"
   ]
  },
  {
   "cell_type": "code",
   "execution_count": 61,
   "id": "religious-tournament",
   "metadata": {},
   "outputs": [],
   "source": [
    "df = df_stocks_bkfilled.copy()\n",
    "df_var = df[df.index > '2019-09-19']\n",
    "\n",
    "# get the % vals of the stocks\n",
    "weights_lst = list(weights.values())\n",
    "weights_array = np.array(weights_lst)"
   ]
  },
  {
   "cell_type": "code",
   "execution_count": 50,
   "id": "meaningful-begin",
   "metadata": {},
   "outputs": [
    {
     "data": {
      "text/plain": [
       "array([0.0238 , 0.036  , 0.02522, 0.02689, 0.02584, 0.0199 , 0.01978,\n",
       "       0.05362, 0.05296, 0.04076, 0.0458 , 0.032  , 0.07255, 0.05222,\n",
       "       0.02314, 0.02921, 0.02355, 0.03643, 0.04594, 0.02654, 0.03979,\n",
       "       0.03889, 0.02824, 0.03316, 0.01827, 0.03491, 0.03612, 0.02941,\n",
       "       0.02903])"
      ]
     },
     "execution_count": 50,
     "metadata": {},
     "output_type": "execute_result"
    }
   ],
   "source": [
    "sh_wt"
   ]
  },
  {
   "cell_type": "code",
   "execution_count": 68,
   "id": "minute-haven",
   "metadata": {},
   "outputs": [],
   "source": [
    "df_var = df_var.pct_change().iloc[1:,:]"
   ]
  },
  {
   "cell_type": "code",
   "execution_count": 77,
   "id": "boxed-april",
   "metadata": {},
   "outputs": [],
   "source": [
    "#PnL = (weights * returns.values).sum(axis=1)\n",
    "# calculate the daily historic PnL of the portfolio\n",
    "hist_daily_portfolio_PnL = (weights_array * df_var.values).sum(axis = 1)"
   ]
  },
  {
   "cell_type": "code",
   "execution_count": 84,
   "id": "great-guest",
   "metadata": {},
   "outputs": [
    {
     "name": "stdout",
     "output_type": "stream",
     "text": [
      "The simple historical VaR pandors is -16.417649761513978\n",
      "The simple historical VaR puerquits is -130.9156570029756\n"
     ]
    }
   ],
   "source": [
    "historic_var = np.percentile(hist_daily_portfolio_PnL, 5, interpolation=\"lower\")\n",
    "\n",
    "capital_pandors = 598\n",
    "capital_puerquits = 4768.50\n",
    "\n",
    "print(f'The simple historical VaR pandors is {historic_var * capital_pandors}')\n",
    "print(f'The simple historical VaR puerquits is {historic_var * capital_puerquits}')\n"
   ]
  },
  {
   "cell_type": "code",
   "execution_count": 85,
   "id": "knowing-process",
   "metadata": {},
   "outputs": [
    {
     "data": {
      "text/plain": [
       "-0.027454263815240763"
      ]
     },
     "execution_count": 85,
     "metadata": {},
     "output_type": "execute_result"
    }
   ],
   "source": [
    "historic_var"
   ]
  },
  {
   "cell_type": "markdown",
   "id": "reasonable-journalist",
   "metadata": {},
   "source": [
    "# CVAR"
   ]
  },
  {
   "cell_type": "code",
   "execution_count": 91,
   "id": "treated-clear",
   "metadata": {},
   "outputs": [
    {
     "name": "stdout",
     "output_type": "stream",
     "text": [
      "The cvar of the portfolio is: -0.04671681053335994\n",
      "The simple historical CVaR pandors is -27.936652698949242\n",
      "The simple historical VaR puerquits is -222.76911102832685\n"
     ]
    }
   ],
   "source": [
    "# filter all values with loses greater than the historic var\n",
    "cvar = hist_daily_portfolio_PnL[hist_daily_portfolio_PnL <= historic_var]\n",
    "print(f'The cvar of the portfolio is: {cvar.mean()}')\n",
    "print(f'The simple historical CVaR pandors is {cvar.mean() * capital_pandors}')\n",
    "print(f'The simple historical VaR puerquits is {cvar.mean() * capital_puerquits}')"
   ]
  },
  {
   "cell_type": "code",
   "execution_count": null,
   "id": "arbitrary-contract",
   "metadata": {},
   "outputs": [],
   "source": []
  }
 ],
 "metadata": {
  "kernelspec": {
   "display_name": "Python 3",
   "language": "python",
   "name": "python3"
  },
  "language_info": {
   "codemirror_mode": {
    "name": "ipython",
    "version": 3
   },
   "file_extension": ".py",
   "mimetype": "text/x-python",
   "name": "python",
   "nbconvert_exporter": "python",
   "pygments_lexer": "ipython3",
   "version": "3.7.5"
  }
 },
 "nbformat": 4,
 "nbformat_minor": 5
}
