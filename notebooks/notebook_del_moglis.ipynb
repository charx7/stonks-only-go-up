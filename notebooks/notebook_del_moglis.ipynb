{
 "cells": [
  {
   "cell_type": "code",
   "execution_count": 1,
   "metadata": {},
   "outputs": [],
   "source": [
    "import yfinance as yf\n",
    "import pandas as pd\n",
    "import numpy as np\n",
    "import time\n",
    "#from pandas_datareader import data\n",
    "from datetime import date\n",
    "from scipy.optimize import minimize\n",
    "#import getFamaFrenchFactors as gff\n",
    "import zipfile\n",
    "import urllib.request\n",
    "import copy\n",
    "from sklearn.linear_model import LinearRegression\n",
    "from scipy.stats import norm\n",
    "import scipy.linalg as la\n",
    "import numpy.random as ra\n",
    "#import scipy.stats import\n",
    "\n",
    "import matplotlib.pyplot as plt\n",
    "#from bokeh.io import output_notebook"
   ]
  },
  {
   "cell_type": "code",
   "execution_count": 2,
   "metadata": {},
   "outputs": [],
   "source": [
    "period=1 #si es 0 sera diaria y 1 si es mensual\n",
    "tipo_rt=1 #si es 0 sera rendimientos ln y 1 si son redimientos  fama french "
   ]
  },
  {
   "cell_type": "code",
   "execution_count": 7,
   "metadata": {},
   "outputs": [],
   "source": [
    "tickers = [\n",
    "    'AMGN', # AMGEN inc -> biotech\n",
    "    'A', # Agilent -> biotech\n",
    "    'TMO', # Thermofisher -> biotech\n",
    "    'VRTX', # Vertex phrmaceuticals -> biotech\n",
    "    'BMRN', # Biomarine pharmaceuticals -> biotech\n",
    "    'PFE', # Pfizer -> biotech\n",
    "    'MRK', # Merk -> biotech\n",
    "    'TSM', # Taiwan semi-conductor -> chips\n",
    "    'QCOM', # Qualcomm -> chips\n",
    "    'XLNX', # Xilix -> chips\n",
    "    'NVDA', # NVIDIA -> chips (GPUS)\n",
    "    'AMD', # AMD -> CPUs (chips)\n",
    "    'ASML', # ASML chips\n",
    "    'MU', # Micorn chips (storage)\n",
    "    'BYND', # Beyond Meat food\n",
    "    'ADM', # Archer Daniels food,\n",
    "    'TSN', # Tyson foods\n",
    "    'EL', # cosmetics\n",
    "    'TWTR', # twitter -> social media\n",
    "    'FB', # facebook -> social media\n",
    "    'GOOGL', # google -> tech/cloud\n",
    "    'MSFT', # microsoft -> tech/cloud\n",
    "    'DDOG', # Datadog -> cloud\n",
    "    'ABNB', # AIRBNB -> travel/tech\n",
    "    'TEAM', # attlasian -> tech/cloud\n",
    "    'VMW', # VMWare -> tech/cloud\n",
    "    'DIS', # Disney -> travel/entretaiment\n",
    "    'NFLX', # Netflix -> tech/entretainement\n",
    "    'MNST', # Monster -> vicios Gen Z\n",
    "]"
   ]
  },
  {
   "cell_type": "code",
   "execution_count": 8,
   "metadata": {},
   "outputs": [],
   "source": [
    "# We would like all available data from 01/01/2000 until 12/31/2016.\n",
    "start_date = '2019-01-01'\n",
    "end_date = date.today()"
   ]
  },
  {
   "cell_type": "code",
   "execution_count": 9,
   "metadata": {},
   "outputs": [
    {
     "name": "stdout",
     "output_type": "stream",
     "text": [
      "[*********************100%***********************]  29 of 29 completed\n"
     ]
    }
   ],
   "source": [
    "data_yahoo=pd.DataFrame(yf.download(tickers,start=start_date,end=end_date))\n",
    "#data_yahoo=pd.DataFrame(yf.download(tickers,start=start_date,end=end_date, threads=False))\n",
    "precios=data_yahoo['Adj Close']# se toma el precio de cierre\n",
    "precios=precios.fillna(method='bfill')#llena los na con el primer valor sig"
   ]
  },
  {
   "cell_type": "code",
   "execution_count": null,
   "metadata": {},
   "outputs": [],
   "source": [
    "def get_fama_french(periodo):\n",
    "    # Web url\n",
    "    if period==0:\n",
    "        ff_url = \"https://mba.tuck.dartmouth.edu/pages/faculty/ken.french/ftp/F-F_Research_Data_5_Factors_2x3_daily_CSV.zip\"\n",
    "    else:\n",
    "        ff_url = \"https://mba.tuck.dartmouth.edu/pages/faculty/ken.french/ftp/F-F_Research_Data_5_Factors_2x3_CSV.zip\"\n",
    "    \n",
    "    # Download the file and save it\n",
    "    # We will name it fama_french.zip file\n",
    "    urllib.request.urlretrieve(ff_url,'fama_french.zip')\n",
    "    zip_file = zipfile.ZipFile('fama_french.zip', 'r')\n",
    "    \n",
    "    # Next we extact the file data   \n",
    "    zip_file.extractall()\n",
    "    \n",
    "    # Make sure you close the file after extraction \n",
    "    zip_file.close()\n",
    "    \n",
    "    # Now open the CSV file    \n",
    "    ff_factors =pd.read_csv('F-F_Research_Data_5_Factors_2x3_daily.CSV', skiprows = 3, index_col = 0)\n",
    "\n",
    "    # Format the date index\n",
    "    ff_factors.index = pd.to_datetime(ff_factors.index, format= '%Y%m%d')\n",
    "    \n",
    "    # Format dates to end of month\n",
    "    #ff_factors.index = ff_factors.index + pd.offsets.MonthEnd()\n",
    "\n",
    "    return pd.DataFrame(ff_factors)\n"
   ]
  },
  {
   "cell_type": "code",
   "execution_count": null,
   "metadata": {},
   "outputs": [],
   "source": [
    "def famafrench_nfac():\n",
    "    betas={}\n",
    "    scores={}\n",
    "    datas={}\n",
    "    ER_Fama=pd.DataFrame()\n",
    "    x_columns=['Mkt-RF', 'SMB', 'HML', 'RMW', 'CMA'] #factores fama french\n",
    "    for i in tickers:\n",
    "        temp=pd.DataFrame()\n",
    "        temp=copy.deepcopy(data[risk_factors+[i]])#crea una copia independiente de los factores + accion\n",
    "        temp[i+'-RF']=temp[i]-temp['RF'] #return - rf\n",
    "        datas[i]=temp #guarda la base de cada accion y sus respectivos factores\n",
    "        Y=datas[i].iloc[:,-1] #variable independiente accion -rf\n",
    "        X=(datas[i])[x_columns] #variables dependientes (factores de riesgo)\n",
    "        reg = LinearRegression( fit_intercept=False).fit(X, Y) #regresion\n",
    "        score=reg.score(X, Y)#R2 de la regresion\n",
    "        coefs=reg.coef_ #sensibilades\n",
    "        betas[i]=coefs\n",
    "        scores[i]=score\n",
    "        ER_Fama[i]=np.sum(X*coefs,axis=1)+data['RF'] #expected returns de los fama french\n",
    "\n",
    "    #ER_Fama_mean=list(ER_Fama.mean())#matriz de expected returns con CAPM N factores\n",
    "    #cov_matrix=ER_Fama.cov()#matriz de covarianzas\n",
    "    return(ER_Fama)"
   ]
  },
  {
   "cell_type": "code",
   "execution_count": null,
   "metadata": {},
   "outputs": [],
   "source": [
    "ff_data = get_fama_french(period)\n",
    "market_cap=data_yahoo['Adj Close'].fillna(0)*data_yahoo['Volume'].fillna(0) #markets caps\n",
    "\n",
    "if period==0:#diarios\n",
    "    ln_Rt=(np.log(precios / precios.shift(1)))[1:] #rendimientos logaritmicos\n",
    "    ln_Rt.index = pd.to_datetime(ln_Rt.index, format= '%Y%m%d')\n",
    "    #ln_Rtmean=list(ln_Rt.mean()) #medias de los rendimientos logaritmicos\n",
    "    W0 = [(1/ len(precios.columns)) for i in range(len(precios.columns))] #pesos iniciales 1/n acciones\n",
    "    #cov_matrix=ln_Rt.cov() #covarianzas de los ln rt\n",
    "    data=ln_Rt.merge(ff_data,left_index=True, right_index=True) #cruce de datos respecto a la fecha\n",
    "    risk_factors=list(ff_data.columns) #factores de riesgo fama french\n",
    "    tickers=list(ln_Rt.columns) #tickers de las acciones\n",
    "    if tipo_rt==0:\n",
    "        ERT=list(ln_Rt.mean()) #medias de los rendimientos logaritmicos\n",
    "        cov_matrix=ln_Rt.cov() #covarianzas de los ln rt\n",
    "        RTF=ln_Rt\n",
    "    else:\n",
    "        RTF=famafrench_nfac()\n",
    "        ERT=list(RTF.mean())#matriz de expected returns con CAPM N factores\n",
    "        cov_matrix=RTF.cov()#matriz de covarianzas\n",
    "        \n",
    "else:\n",
    "    precios=precios.resample('1M').last()\n",
    "    ln_Rt=(np.log(precios / precios.shift(1)))[1:] #rendimientos logaritmicos\n",
    "    ln_Rt.index = pd.to_datetime(ln_Rt.index, format= '%Y%m%d')\n",
    "    #ln_Rtmean=list(ln_Rt.mean()) #medias de los rendimientos logaritmicos\n",
    "    W0 = [(1/ len(precios.columns)) for i in range(len(precios.columns))] #pesos iniciales 1/n acciones\n",
    "    #cov_matrix=ln_Rt.cov() #covarianzas de los ln rt\n",
    "    data=ln_Rt.merge(ff_data,left_index=True, right_index=True) #cruce de datos respecto a la fecha\n",
    "    risk_factors=list(ff_data.columns) #factores de riesgo fama french\n",
    "    tickers=list(ln_Rt.columns) #tickers de las acciones\n",
    "    if tipo_rt==0:\n",
    "        ERT=list(ln_Rt.mean()) #medias de los rendimientos logaritmicos\n",
    "        cov_matrix=ln_Rt.cov() #covarianzas de los ln rt\n",
    "        RTF=ln_Rt\n",
    "    else:\n",
    "        RTF=famafrench_nfac()\n",
    "        ERT=list(RTF.mean())#matriz de expected returns con CAPM N factores\n",
    "        cov_matrix=RTF.cov()#matriz de covarianzas"
   ]
  },
  {
   "cell_type": "code",
   "execution_count": 679,
   "metadata": {},
   "outputs": [
    {
     "name": "stdout",
     "output_type": "stream",
     "text": [
      "[2.75421203e-15 0.00000000e+00 1.45186728e-15 0.00000000e+00\n",
      " 0.00000000e+00 3.61819318e-15 1.29553913e-15 1.96877696e+01\n",
      " 0.00000000e+00 2.11949253e-15 1.07600604e-15 9.18859490e+00\n",
      " 0.00000000e+00 0.00000000e+00 1.19815440e-15 0.00000000e+00\n",
      " 0.00000000e+00 1.11050847e+01 2.29940314e+01 0.00000000e+00\n",
      " 2.74200302e+01 2.49896237e-15 2.02569336e-15 0.00000000e+00\n",
      " 2.31220981e-15 0.00000000e+00 0.00000000e+00 0.00000000e+00\n",
      " 9.60448914e+00]\n",
      "0.013967075035395493 0.013107630707901363 0.7724485071229693\n"
     ]
    }
   ],
   "source": [
    "#optimizacion SRF\n",
    "rf=data['RF'].mean()\n",
    "def SR(w,rf,rt):#funcion de sharpe ratio\n",
    "    R=np.sum(rt*w)\n",
    "    V=np.sqrt(np.dot(w.T,np.dot(cov_matrix,w)))\n",
    "    return(R-rf)/V\n",
    "\n",
    "limites=tuple([(0,1) for i in range(len(precios.columns))])\n",
    "restriciones=({'type':'eq','fun':lambda x:np.sum(x)-1})\n",
    "w_optSRF=minimize(lambda x: -1*SR(x,rf,ERT),W0,method='SLSQP',bounds=limites,constraints=restriciones) #maximizar SR\n",
    "#maximizando SR\n",
    "woptSRF=w_optSRF.x #pesos optimos\n",
    "R_SRF=np.sum(ERT*woptSRF) #rendimiento maximo optimizando el SR\n",
    "V_SRF=np.sqrt(np.dot(woptSRF.T,np.dot(cov_matrix,woptSRF)))#Riesgo minimo optimizando el SR\n",
    "\n",
    "print(wopt*100) #pesos optimos\n",
    "print(R_SRF,V_SRF,(R_SRF-rf)/V_SRF) # rendimiento optimo, riesgo y sharpe ratio"
   ]
  },
  {
   "cell_type": "code",
   "execution_count": 680,
   "metadata": {},
   "outputs": [
    {
     "name": "stdout",
     "output_type": "stream",
     "text": [
      "[2.75421203e-15 0.00000000e+00 1.45186728e-15 0.00000000e+00\n",
      " 0.00000000e+00 3.61819318e-15 1.29553913e-15 1.96877696e+01\n",
      " 0.00000000e+00 2.11949253e-15 1.07600604e-15 9.18859490e+00\n",
      " 0.00000000e+00 0.00000000e+00 1.19815440e-15 0.00000000e+00\n",
      " 0.00000000e+00 1.11050847e+01 2.29940314e+01 0.00000000e+00\n",
      " 2.74200302e+01 2.49896237e-15 2.02569336e-15 0.00000000e+00\n",
      " 2.31220981e-15 0.00000000e+00 0.00000000e+00 0.00000000e+00\n",
      " 9.60448914e+00]\n",
      "0.0066386361083780555 0.004386831026635241 1.5133101931828863\n"
     ]
    }
   ],
   "source": [
    "#optimizacion SR\n",
    "rf=0\n",
    "def SR(w,rf,rt):#funcion de sharpe ratio\n",
    "    R=np.sum(rt*w)\n",
    "    V=np.sqrt(np.dot(w.T,np.dot(cov_matrix,w)))\n",
    "    return(R-rf)/V\n",
    "\n",
    "limites=tuple([(0,1) for i in range(len(precios.columns))])\n",
    "restriciones=({'type':'eq','fun':lambda x:np.sum(x)-1})\n",
    "w_optSR=minimize(lambda x: -1*SR(x,rf,ERT),W0,method='SLSQP',bounds=limites,constraints=restriciones) #maximizar SR\n",
    "#maximizando SR\n",
    "woptSR=w_optSR.x #pesos optimos\n",
    "R_SR=np.sum(ERT*woptSR) #rendimiento maximo optimizando el SR\n",
    "V_SR=np.sqrt(np.dot(woptSR.T,np.dot(cov_matrix,woptSR)))#Riesgo minimo optimizando el SR\n",
    "\n",
    "print(wopt*100) #pesos optimos\n",
    "print(R_SR,V_SR,(R_SR-rf)/V_SR) # rendimiento optimo, riesgo y sharpe ratio"
   ]
  },
  {
   "cell_type": "code",
   "execution_count": 681,
   "metadata": {},
   "outputs": [
    {
     "name": "stdout",
     "output_type": "stream",
     "text": [
      "0.006008832571882741 0.004175157629900618\n"
     ]
    }
   ],
   "source": [
    "#minima varianza\n",
    "def minvariance(w):\n",
    "    V=np.sqrt(np.dot(w.T,np.dot(cov_matrix,w)))\n",
    "    return V\n",
    "\n",
    "def retorno(w):\n",
    "    return np.sum(ERT*w)\n",
    "\n",
    "limites=tuple([(0,1) for i in range(len(precios.columns))])\n",
    "restriciones=({'type':'eq','fun':lambda x:np.sum(x)-1}) \n",
    "v_opt=minimize(minvariance,W0,method='SLSQP',bounds=limites,constraints=restriciones) #minimizar riesgo\n",
    "minVR=np.sum(ERT*v_opt.x)#rendimiento optimo\n",
    "minV=np.sqrt(np.dot((v_opt.x).T,np.dot(cov_matrix,v_opt.x)))#minima varianza\n",
    "print(minVR,minV)"
   ]
  },
  {
   "cell_type": "code",
   "execution_count": 682,
   "metadata": {},
   "outputs": [
    {
     "name": "stdout",
     "output_type": "stream",
     "text": [
      "0.0059540314311603 0.0042158246105244435\n"
     ]
    }
   ],
   "source": [
    "desviaciones=RTF.std()\n",
    "#maximizar diversificacion\n",
    "def mindev(w):\n",
    "    dev=(np.dot(w.T,desviaciones))/np.sqrt(np.dot(w.T,np.dot(cov_matrix,w)))\n",
    "    return dev\n",
    "\n",
    "def retorno(w):\n",
    "    return np.sum(ERT*w)\n",
    "\n",
    "limites=tuple([(0,1) for i in range(len(precios.columns))])\n",
    "restriciones=({'type':'eq','fun':lambda x:np.sum(x)-1}) \n",
    "dev_v_opt=minimize(lambda x: -1*mindev(x),W0,method='SLSQP',bounds=limites,constraints=restriciones) #maximizar diversificacion\n",
    "devR=np.sum(ERT*dev_v_opt.x)#rendimiento optimo\n",
    "devV=np.sqrt(np.dot((dev_v_opt.x).T,np.dot(cov_matrix,dev_v_opt.x)))#varianza\n",
    "print(devR,devV)"
   ]
  },
  {
   "cell_type": "code",
   "execution_count": 683,
   "metadata": {},
   "outputs": [],
   "source": [
    "#frontera eficiente\n",
    "returns=np.linspace(minVR,np.maximum(np.maximum(devR,R_SRF),0),100)#R_SRF\n",
    "riesgo=[]\n",
    "datos=[]\n",
    "\n",
    "for ri in returns:\n",
    "    restriciones=({'type':'eq','fun':lambda x:np.sum(x)-1},\n",
    "             {'type':'eq','fun':lambda x:retorno(x)-ri}) \n",
    "    v_opt=minimize(minvariance,W0,method='SLSQP',bounds=limites,constraints=restriciones) #minimizar Var\n",
    "    riesgo.append(v_opt['fun'])\n",
    "    datos.append(riesgo)\n",
    "#(pd.DataFrame(returns,riesgo)).to_excel('sim.xlsx', index=True) #se convierte en excel el insumo ara"
   ]
  },
  {
   "cell_type": "code",
   "execution_count": 684,
   "metadata": {},
   "outputs": [
    {
     "data": {
      "image/png": "[encoded data removed]",
      "text/plain": [
       "<Figure size 1440x432 with 1 Axes>"
      ]
     },
     "metadata": {
      "needs_background": "light"
     },
     "output_type": "display_data"
    }
   ],
   "source": [
    "plt.figure(figsize=(20,6))\n",
    "plt.xlabel('Riesgo')\n",
    "plt.ylabel('Retorno')\n",
    "plt.scatter(V_SR,R_SR,c='yellow')#SR sin rf\n",
    "plt.scatter(V_SRF,R_SRF,c='red')#SR con rf\n",
    "plt.scatter(minV,minVR,c='green')#min riesgo\n",
    "plt.scatter(devV,devR,c='black')#max diversificacion\n",
    "plt.plot(riesgo,returns,'--')\n",
    "plt.show()\n",
    "           "
   ]
  },
  {
   "cell_type": "code",
   "execution_count": 759,
   "metadata": {},
   "outputs": [],
   "source": [
    "# T_S=[0,0.5,1] # desbloquear esta parte e insertar tiempos especificos para evaluar los subyacentes\n",
    "nSims =100# numero de simulaciones\n",
    "\n",
    "rng = ra.RandomState(3426) #se declara una semilla para garantizar que los resultados son replicables.\n",
    "# rng=None #se utlitza para no utilizar semilla\n",
    "\n",
    "#se define función de antiteticas\n",
    "def Antiteticas(nSims,S0,rng):\n",
    "    subs=len(S0)\n",
    "    nSimReal = nSims // 2  # nSims es el 2N de la explicacion. //:division entera\n",
    "    # Valores con las normales originales\n",
    "    normales= norm.rvs(size=(subs, nSimReal), random_state=rng)\n",
    "    # Valores con las normales simetricas\n",
    "    normalesSim = -normales\n",
    "    T_normales=np.hstack((normales,normalesSim))\n",
    "    #se extrae matriz de las covarianzas de las normales generadas\n",
    "    mat_cov=np.cov(T_normales)\n",
    "    #se extrae la inversa de la cholesky de la matriz de covarainzas\n",
    "    ch_T = la.inv(la.cholesky(mat_cov)).T\n",
    "    #Se multiplica cholesly por normales\n",
    "    T_normales = np.dot(ch_T, T_normales)\n",
    "    return T_normales\n"
   ]
  },
  {
   "cell_type": "code",
   "execution_count": 760,
   "metadata": {},
   "outputs": [
    {
     "data": {
      "text/plain": [
       "(100, 29)"
      ]
     },
     "execution_count": 760,
     "metadata": {},
     "output_type": "execute_result"
    }
   ],
   "source": [
    "Z= Antiteticas(nSims,tickers,rng) #normales 0,1 con matriz de correlacion limpia\n",
    "corr_RTF=ln_Rt.corr()\n",
    "chol_corr_RTF= la.cholesky(corr_RTF).T\n",
    "Z_corr = np.dot(chol_corr_RTF, Z).T #normales 0,1 con matriz de correlacion objetivo lnRT\n",
    "#pd.DataFrame(Z_corr).corr()\n",
    "Z_corr.shape"
   ]
  },
  {
   "cell_type": "code",
   "execution_count": 761,
   "metadata": {},
   "outputs": [],
   "source": [
    "P0=np.array(precios.iloc[-1])\n",
    "#P0.shape=[1,len(P0)]\n",
    "r=data['RF'].mean()\n",
    "sigmas=np.array(ln_Rt.std())\n",
    "#sigmas.shape=[1,len(sigmas)]\n",
    "ST=P0*np.exp(((r-.5*sigmas**2)) + (sigmas*Z_corr)) #posibles precios\n",
    "Rt_cont=(((r-.5*sigmas**2)) + (sigmas*Z_corr))-1  #rendimientos\n",
    "Capital=1000000 #1,000,000\n",
    "Pesos=W0\n",
    "Titulos=np.array(W0)*Capital/P0\n",
    "Escenarios=Rt_cont*Titulos*P0\n",
    "PL=np.sum(Escenarios[:],axis=1)\n",
    "#(pd.DataFrame(Escenarios)).to_excel('sim.xlsx', index=True) #se convierte en excel el insumo ara"
   ]
  },
  {
   "cell_type": "code",
   "execution_count": 767,
   "metadata": {},
   "outputs": [
    {
     "name": "stdout",
     "output_type": "stream",
     "text": [
      "tu Var MC es de: -1,149,965.41\n",
      "\n"
     ]
    }
   ],
   "source": [
    "alpha=0\n",
    "Perdida_mc= np.percentile(PL,alpha)\n",
    "print(\"tu Var MC es de:\" ,\"{:,.2f}\".format(Perdida_mc))\n",
    "print()"
   ]
  },
  {
   "cell_type": "code",
   "execution_count": 751,
   "metadata": {},
   "outputs": [
    {
     "data": {
      "text/html": [
       "<div>\n",
       "<style scoped>\n",
       "    .dataframe tbody tr th:only-of-type {\n",
       "        vertical-align: middle;\n",
       "    }\n",
       "\n",
       "    .dataframe tbody tr th {\n",
       "        vertical-align: top;\n",
       "    }\n",
       "\n",
       "    .dataframe thead th {\n",
       "        text-align: right;\n",
       "    }\n",
       "</style>\n",
       "<table border=\"1\" class=\"dataframe\">\n",
       "  <thead>\n",
       "    <tr style=\"text-align: right;\">\n",
       "      <th></th>\n",
       "      <th>0</th>\n",
       "    </tr>\n",
       "  </thead>\n",
       "  <tbody>\n",
       "    <tr>\n",
       "      <th>97</th>\n",
       "      <td>-1.149965e+06</td>\n",
       "    </tr>\n",
       "    <tr>\n",
       "      <th>74</th>\n",
       "      <td>-1.101952e+06</td>\n",
       "    </tr>\n",
       "    <tr>\n",
       "      <th>64</th>\n",
       "      <td>-1.091625e+06</td>\n",
       "    </tr>\n",
       "    <tr>\n",
       "      <th>49</th>\n",
       "      <td>-1.082112e+06</td>\n",
       "    </tr>\n",
       "    <tr>\n",
       "      <th>4</th>\n",
       "      <td>-1.078288e+06</td>\n",
       "    </tr>\n",
       "    <tr>\n",
       "      <th>...</th>\n",
       "      <td>...</td>\n",
       "    </tr>\n",
       "    <tr>\n",
       "      <th>54</th>\n",
       "      <td>-9.235830e+05</td>\n",
       "    </tr>\n",
       "    <tr>\n",
       "      <th>99</th>\n",
       "      <td>-9.197592e+05</td>\n",
       "    </tr>\n",
       "    <tr>\n",
       "      <th>14</th>\n",
       "      <td>-9.102459e+05</td>\n",
       "    </tr>\n",
       "    <tr>\n",
       "      <th>24</th>\n",
       "      <td>-8.999188e+05</td>\n",
       "    </tr>\n",
       "    <tr>\n",
       "      <th>47</th>\n",
       "      <td>-8.519057e+05</td>\n",
       "    </tr>\n",
       "  </tbody>\n",
       "</table>\n",
       "<p>100 rows × 1 columns</p>\n",
       "</div>"
      ],
      "text/plain": [
       "               0\n",
       "97 -1.149965e+06\n",
       "74 -1.101952e+06\n",
       "64 -1.091625e+06\n",
       "49 -1.082112e+06\n",
       "4  -1.078288e+06\n",
       "..           ...\n",
       "54 -9.235830e+05\n",
       "99 -9.197592e+05\n",
       "14 -9.102459e+05\n",
       "24 -8.999188e+05\n",
       "47 -8.519057e+05\n",
       "\n",
       "[100 rows x 1 columns]"
      ]
     },
     "execution_count": 751,
     "metadata": {},
     "output_type": "execute_result"
    }
   ],
   "source": [
    "(pd.DataFrame(PL)).sort_values(by=0, ascending=True)"
   ]
  },
  {
   "cell_type": "code",
   "execution_count": 690,
   "metadata": {},
   "outputs": [],
   "source": [
    "#colors =['darkblue','orange','red']\n",
    "#data.plot_bokeh.line(figsize=(900,450),\n",
    "                    #colormap=colors,\n",
    "                    #rangetool=True,\n",
    "                    #xlabel='fecha',\n",
    "                    #ylabel='cotizaciones',\n",
    "                    #title='prueba')"
   ]
  }
 ],
 "metadata": {
  "kernelspec": {
   "display_name": "Python 3",
   "language": "python",
   "name": "python3"
  },
  "language_info": {
   "codemirror_mode": {
    "name": "ipython",
    "version": 3
   },
   "file_extension": ".py",
   "mimetype": "text/x-python",
   "name": "python",
   "nbconvert_exporter": "python",
   "pygments_lexer": "ipython3",
   "version": "3.7.5"
  }
 },
 "nbformat": 4,
 "nbformat_minor": 4
}
