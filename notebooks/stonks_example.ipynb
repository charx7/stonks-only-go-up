{
 "cells": [
  {
   "cell_type": "code",
   "execution_count": 1,
   "id": "weekly-engineering",
   "metadata": {},
   "outputs": [],
   "source": [
    "from stonks.data.data_reader import MktDataReader\n",
    "from stonks.models.market_models import MarketModels\n",
    "from stonks.models.asset_allocation import AssetAllocation\n",
    "\n",
    "\n",
    "from pypfopt.expected_returns import mean_historical_return\n",
    "from pypfopt.risk_models import CovarianceShrinkage\n",
    "from pypfopt.efficient_frontier import EfficientFrontier\n",
    "from pypfopt import objective_functions "
   ]
  },
  {
   "cell_type": "code",
   "execution_count": 2,
   "id": "collected-assignment",
   "metadata": {},
   "outputs": [
    {
     "name": "stdout",
     "output_type": "stream",
     "text": [
      "[*********************100%***********************]  10 of 10 completed\n"
     ]
    }
   ],
   "source": [
    "tickers = [\n",
    "    'AAPL', # Apple -> tech\n",
    "    'TSLA', # Tesla -> tech\n",
    "    'GOOGL', # Google -> tech\n",
    "    'AMZN', # Amazon -> consumer/tech\n",
    "    'MA', # MasterCard -> finance\n",
    "    'V', # Visa -> finance\n",
    "    'MELI', # MercadoLibre -> consumer\n",
    "    'NVDA', # Nvidia -> chips\n",
    "    'ASML', # ASML -> chips\n",
    "    'FB' # facebook -> social media\n",
    "]\n",
    "\n",
    "# We would like all available data from 01/01/2000 until 12/31/2016.\n",
    "start_date = '2008-01-01'\n",
    "end_date = '2021-04-05'\n",
    "\n",
    "dr = MktDataReader(start_date, end_date, 'yahoo', tickers)"
   ]
  },
  {
   "cell_type": "code",
   "execution_count": 3,
   "id": "tested-antibody",
   "metadata": {},
   "outputs": [],
   "source": [
    "# impute missing data\n",
    "dr.impute_missing_data()\n",
    "# fetch market caps\n",
    "dr.fetch_market_caps()"
   ]
  },
  {
   "cell_type": "code",
   "execution_count": 4,
   "id": "romantic-success",
   "metadata": {},
   "outputs": [],
   "source": [
    "## Fama-French"
   ]
  },
  {
   "cell_type": "code",
   "execution_count": 5,
   "id": "theoretical-value",
   "metadata": {},
   "outputs": [
    {
     "data": {
      "text/html": [
       "<div>\n",
       "<style scoped>\n",
       "    .dataframe tbody tr th:only-of-type {\n",
       "        vertical-align: middle;\n",
       "    }\n",
       "\n",
       "    .dataframe tbody tr th {\n",
       "        vertical-align: top;\n",
       "    }\n",
       "\n",
       "    .dataframe thead th {\n",
       "        text-align: right;\n",
       "    }\n",
       "</style>\n",
       "<table border=\"1\" class=\"dataframe\">\n",
       "  <thead>\n",
       "    <tr style=\"text-align: right;\">\n",
       "      <th></th>\n",
       "      <th>Mkt-RF</th>\n",
       "      <th>SMB</th>\n",
       "      <th>HML</th>\n",
       "      <th>RMW</th>\n",
       "      <th>CMA</th>\n",
       "      <th>RF</th>\n",
       "    </tr>\n",
       "  </thead>\n",
       "  <tbody>\n",
       "    <tr>\n",
       "      <th>1963-07-01</th>\n",
       "      <td>-0.67</td>\n",
       "      <td>0.00</td>\n",
       "      <td>-0.34</td>\n",
       "      <td>-0.01</td>\n",
       "      <td>0.15</td>\n",
       "      <td>0.012</td>\n",
       "    </tr>\n",
       "    <tr>\n",
       "      <th>1963-07-02</th>\n",
       "      <td>0.79</td>\n",
       "      <td>-0.27</td>\n",
       "      <td>0.27</td>\n",
       "      <td>-0.07</td>\n",
       "      <td>-0.19</td>\n",
       "      <td>0.012</td>\n",
       "    </tr>\n",
       "  </tbody>\n",
       "</table>\n",
       "</div>"
      ],
      "text/plain": [
       "            Mkt-RF   SMB   HML   RMW   CMA     RF\n",
       "1963-07-01   -0.67  0.00 -0.34 -0.01  0.15  0.012\n",
       "1963-07-02    0.79 -0.27  0.27 -0.07 -0.19  0.012"
      ]
     },
     "execution_count": 5,
     "metadata": {},
     "output_type": "execute_result"
    }
   ],
   "source": [
    "dr.ff_factors.head(2)"
   ]
  },
  {
   "cell_type": "code",
   "execution_count": 6,
   "id": "american-brother",
   "metadata": {},
   "outputs": [
    {
     "name": "stdout",
     "output_type": "stream",
     "text": [
      "[*********************100%***********************]  1 of 1 completed\n"
     ]
    }
   ],
   "source": [
    "ff_model = MarketModels(\n",
    "    dr.df_stocks_bkfilled,  # stocks historical data from the MktDataReader class\n",
    "    model = \"vanilla-ff\",  # name of the model to get the estimated returns + covar matrices\n",
    "    mcaps = dr.mcaps,  # market caps from the MktDataReader class\n",
    "    ff_factors_df = dr.ff_factors  # fetched fama-french factors\n",
    ")"
   ]
  },
  {
   "cell_type": "code",
   "execution_count": 7,
   "id": "urban-little",
   "metadata": {},
   "outputs": [
    {
     "data": {
      "text/html": [
       "<div>\n",
       "<style scoped>\n",
       "    .dataframe tbody tr th:only-of-type {\n",
       "        vertical-align: middle;\n",
       "    }\n",
       "\n",
       "    .dataframe tbody tr th {\n",
       "        vertical-align: top;\n",
       "    }\n",
       "\n",
       "    .dataframe thead th {\n",
       "        text-align: right;\n",
       "    }\n",
       "</style>\n",
       "<table border=\"1\" class=\"dataframe\">\n",
       "  <thead>\n",
       "    <tr style=\"text-align: right;\">\n",
       "      <th></th>\n",
       "      <th>AAPL</th>\n",
       "      <th>AMZN</th>\n",
       "      <th>ASML</th>\n",
       "      <th>FB</th>\n",
       "      <th>GOOGL</th>\n",
       "      <th>MA</th>\n",
       "      <th>MELI</th>\n",
       "      <th>NVDA</th>\n",
       "      <th>TSLA</th>\n",
       "      <th>V</th>\n",
       "    </tr>\n",
       "  </thead>\n",
       "  <tbody>\n",
       "    <tr>\n",
       "      <th>2008-01-02</th>\n",
       "      <td>-0.001657</td>\n",
       "      <td>-0.000989</td>\n",
       "      <td>-0.007272</td>\n",
       "      <td>0.006215</td>\n",
       "      <td>-0.000627</td>\n",
       "      <td>-0.004029</td>\n",
       "      <td>-0.007214</td>\n",
       "      <td>-0.009185</td>\n",
       "      <td>-0.000267</td>\n",
       "      <td>-0.001893</td>\n",
       "    </tr>\n",
       "    <tr>\n",
       "      <th>2008-01-03</th>\n",
       "      <td>0.013003</td>\n",
       "      <td>0.015102</td>\n",
       "      <td>0.008010</td>\n",
       "      <td>0.014031</td>\n",
       "      <td>0.013892</td>\n",
       "      <td>0.011836</td>\n",
       "      <td>0.011479</td>\n",
       "      <td>0.010585</td>\n",
       "      <td>0.009397</td>\n",
       "      <td>0.011685</td>\n",
       "    </tr>\n",
       "  </tbody>\n",
       "</table>\n",
       "</div>"
      ],
      "text/plain": [
       "                AAPL      AMZN      ASML        FB     GOOGL        MA  \\\n",
       "2008-01-02 -0.001657 -0.000989 -0.007272  0.006215 -0.000627 -0.004029   \n",
       "2008-01-03  0.013003  0.015102  0.008010  0.014031  0.013892  0.011836   \n",
       "\n",
       "                MELI      NVDA      TSLA         V  \n",
       "2008-01-02 -0.007214 -0.009185 -0.000267 -0.001893  \n",
       "2008-01-03  0.011479  0.010585  0.009397  0.011685  "
      ]
     },
     "execution_count": 7,
     "metadata": {},
     "output_type": "execute_result"
    }
   ],
   "source": [
    "ff_model.er_fama_df.head(2)"
   ]
  },
  {
   "cell_type": "code",
   "execution_count": 8,
   "id": "biological-price",
   "metadata": {},
   "outputs": [
    {
     "data": {
      "text/plain": [
       "{'AAPL': 0.6893613362394948,\n",
       " 'AMZN': 0.6829168052582064,\n",
       " 'ASML': 0.7013237128562366,\n",
       " 'FB': 0.6140032479618611,\n",
       " 'GOOGL': 0.6623349283413695,\n",
       " 'MA': 0.6726381123578156,\n",
       " 'MELI': 0.7146575977165455,\n",
       " 'NVDA': 0.732607865139415,\n",
       " 'TSLA': 0.6451419499963542,\n",
       " 'V': 0.6531904851041315}"
      ]
     },
     "execution_count": 8,
     "metadata": {},
     "output_type": "execute_result"
    }
   ],
   "source": [
    "dict(ff_model.ret_ff)"
   ]
  },
  {
   "cell_type": "code",
   "execution_count": 9,
   "id": "united-committee",
   "metadata": {},
   "outputs": [
    {
     "data": {
      "text/plain": [
       "{'AAPL': 0.48643685745467335,\n",
       " 'AMZN': 0.4288670306553818,\n",
       " 'ASML': 0.4766886582967995,\n",
       " 'FB': 0.17717704139763246,\n",
       " 'GOOGL': 0.5179378591487357,\n",
       " 'MA': 0.5316609922170439,\n",
       " 'MELI': 0.37135253977967697,\n",
       " 'NVDA': 0.42787103193722387,\n",
       " 'TSLA': 0.16524165013475411,\n",
       " 'V': 0.4830145933957265}"
      ]
     },
     "execution_count": 9,
     "metadata": {},
     "output_type": "execute_result"
    }
   ],
   "source": [
    "ff_model.ff_scores  # R^2 scores used as a proxy for confidences"
   ]
  },
  {
   "cell_type": "code",
   "execution_count": 10,
   "id": "permanent-library",
   "metadata": {},
   "outputs": [
    {
     "name": "stdout",
     "output_type": "stream",
     "text": [
      "[*********************100%***********************]  1 of 1 completed\n"
     ]
    }
   ],
   "source": [
    "## Black-Litterman with FF factors\n",
    "# views taken from the FF-model\n",
    "viewdict = dict(ff_model.ret_ff)\n",
    "dict_keys = [k for k in viewdict.keys()]\n",
    "\n",
    "# confidences\n",
    "confidences = [ff_model.ff_scores[k] for k in dict_keys]\n",
    "\n",
    "# initiate the stonks MarketModels obj\n",
    "bl_ff_mod = MarketModels(\n",
    "    dr.df_stocks_bkfilled,  # stocks historical data from the MktDataReader class\n",
    "    model = \"bl\",  # name of the model to get the estimated returns + covar matrices\n",
    "    views_dict = viewdict,  # own views on expectations of stocks\n",
    "    confidences = confidences,  # how sure are you about your views of the market\n",
    "    mcaps = dr.mcaps  # market caps from the MktDataReader class\n",
    ")"
   ]
  },
  {
   "cell_type": "code",
   "execution_count": 12,
   "id": "objective-sensitivity",
   "metadata": {},
   "outputs": [
    {
     "data": {
      "text/plain": [
       "AAPL     0.198871\n",
       "AMZN     0.216147\n",
       "ASML     0.180064\n",
       "FB       0.125017\n",
       "GOOGL    0.183439\n",
       "MA       0.175630\n",
       "MELI     0.227645\n",
       "NVDA     0.234007\n",
       "TSLA     0.179788\n",
       "V        0.156072\n",
       "dtype: float64"
      ]
     },
     "execution_count": 12,
     "metadata": {},
     "output_type": "execute_result"
    }
   ],
   "source": [
    "bl_ff_mod.market_prior"
   ]
  },
  {
   "cell_type": "code",
   "execution_count": 14,
   "id": "interesting-juice",
   "metadata": {},
   "outputs": [
    {
     "name": "stdout",
     "output_type": "stream",
     "text": [
      "AAPL     0.577333\n",
      "AMZN     0.607355\n",
      "ASML     0.584925\n",
      "FB       0.349906\n",
      "GOOGL    0.555431\n",
      "MA       0.593431\n",
      "MELI     0.699569\n",
      "NVDA     0.702099\n",
      "TSLA     0.463361\n",
      "V        0.532468\n",
      "dtype: float64\n",
      "<class 'pandas.core.frame.DataFrame'>\n"
     ]
    }
   ],
   "source": [
    "print(bl_ff_mod.ret_bl)\n",
    "print(type(bl_ff_mod.S_bl))"
   ]
  },
  {
   "cell_type": "code",
   "execution_count": 15,
   "id": "expanded-assurance",
   "metadata": {},
   "outputs": [
    {
     "name": "stdout",
     "output_type": "stream",
     "text": [
      "Expected annual return: 58.1%\n",
      "Annual volatility: 26.5%\n",
      "Sharpe Ratio: 2.11\n"
     ]
    },
    {
     "name": "stderr",
     "output_type": "stream",
     "text": [
      "/home/charx/python-virtual-environments/stonks-env/lib/python3.7/site-packages/pypfopt/efficient_frontier/efficient_frontier.py:248: UserWarning: max_sharpe transforms the optimization problem so additional objectives may not work as expected.\n",
      "  \"max_sharpe transforms the optimization problem so additional objectives may not work as expected.\"\n"
     ]
    },
    {
     "data": {
      "text/plain": [
       "(0.5805289924765453, 0.2653722667296166, 2.1122365173436113)"
      ]
     },
     "execution_count": 15,
     "metadata": {},
     "output_type": "execute_result"
    }
   ],
   "source": [
    "# using the computed black-litterman model\n",
    "al = AssetAllocation(bl_ff_mod.ret_bl, bl_ff_mod.S_bl, \"markowitz-regularized\")\n",
    "al.portfolio_perf"
   ]
  },
  {
   "cell_type": "code",
   "execution_count": 16,
   "id": "stupid-papua",
   "metadata": {},
   "outputs": [
    {
     "data": {
      "text/plain": [
       "OrderedDict([('AAPL', 0.10975),\n",
       "             ('AMZN', 0.11093),\n",
       "             ('ASML', 0.10291),\n",
       "             ('FB', 0.06559),\n",
       "             ('GOOGL', 0.10594),\n",
       "             ('MA', 0.10962),\n",
       "             ('MELI', 0.1068),\n",
       "             ('NVDA', 0.11517),\n",
       "             ('TSLA', 0.0737),\n",
       "             ('V', 0.0996)])"
      ]
     },
     "execution_count": 16,
     "metadata": {},
     "output_type": "execute_result"
    }
   ],
   "source": [
    "# portfolio weights\n",
    "al.weights"
   ]
  },
  {
   "cell_type": "code",
   "execution_count": 17,
   "id": "canadian-category",
   "metadata": {},
   "outputs": [],
   "source": [
    "## Black-Litterman"
   ]
  },
  {
   "cell_type": "code",
   "execution_count": 18,
   "id": "innocent-mississippi",
   "metadata": {},
   "outputs": [
    {
     "name": "stdout",
     "output_type": "stream",
     "text": [
      "[*********************100%***********************]  1 of 1 completed\n"
     ]
    }
   ],
   "source": [
    "# declare our views of the market\n",
    "viewdict = {\n",
    "    \"GOOGL\": 0.30,\n",
    "    \"FB\": 0.30,\n",
    "    \"ASML\": 0.30,\n",
    "    \"NVDA\": 0.30,\n",
    "}\n",
    "\n",
    "# how confident we are on our views\n",
    "confidences = [\n",
    "    0.8,\n",
    "    0.8,\n",
    "    0.6,\n",
    "    0.6,\n",
    "]\n",
    "\n",
    "# initiate the stonks MarketModels obj\n",
    "bl = MarketModels(\n",
    "    dr.df_stocks_bkfilled,  # stocks historical data from the MktDataReader class\n",
    "    model = \"bl\",  # name of the model to get the estimated returns + covar matrices\n",
    "    views_dict = viewdict,  # own views on expectations of stocks\n",
    "    confidences = confidences,  # how sure are you about your views of the market\n",
    "    mcaps = dr.mcaps  # market caps from the MktDataReader class\n",
    ") "
   ]
  },
  {
   "cell_type": "code",
   "execution_count": 19,
   "id": "documentary-heaven",
   "metadata": {},
   "outputs": [
    {
     "data": {
      "text/plain": [
       "{'name': 'Black-litterman',\n",
       " 'model': <pypfopt.black_litterman.BlackLittermanModel at 0x7fa8aa25be10>}"
      ]
     },
     "execution_count": 19,
     "metadata": {},
     "output_type": "execute_result"
    }
   ],
   "source": [
    "# which model we used + the trained model obj\n",
    "bl.model_summary"
   ]
  },
  {
   "cell_type": "code",
   "execution_count": 20,
   "id": "altered-league",
   "metadata": {},
   "outputs": [
    {
     "name": "stdout",
     "output_type": "stream",
     "text": [
      "<class 'pandas.core.series.Series'>\n",
      "<class 'pandas.core.frame.DataFrame'>\n"
     ]
    }
   ],
   "source": [
    "print(type(bl.ret_bl))\n",
    "print(type(bl.S_bl))"
   ]
  },
  {
   "cell_type": "code",
   "execution_count": 21,
   "id": "peaceful-arthritis",
   "metadata": {},
   "outputs": [
    {
     "data": {
      "text/plain": [
       "AAPL     0.276361\n",
       "AMZN     0.307078\n",
       "ASML     0.274076\n",
       "FB       0.269517\n",
       "GOOGL    0.285990\n",
       "MA       0.252113\n",
       "MELI     0.330368\n",
       "NVDA     0.321420\n",
       "TSLA     0.255788\n",
       "V        0.224633\n",
       "dtype: float64"
      ]
     },
     "execution_count": 21,
     "metadata": {},
     "output_type": "execute_result"
    }
   ],
   "source": [
    "bl.ret_bl"
   ]
  },
  {
   "cell_type": "code",
   "execution_count": 22,
   "id": "classical-aruba",
   "metadata": {},
   "outputs": [],
   "source": [
    "# asset allocation"
   ]
  },
  {
   "cell_type": "code",
   "execution_count": 23,
   "id": "liberal-player",
   "metadata": {},
   "outputs": [
    {
     "name": "stdout",
     "output_type": "stream",
     "text": [
      "Expected annual return: 28.2%\n",
      "Annual volatility: 25.8%\n",
      "Sharpe Ratio: 1.01\n"
     ]
    },
    {
     "name": "stderr",
     "output_type": "stream",
     "text": [
      "/home/charx/python-virtual-environments/stonks-env/lib/python3.7/site-packages/pypfopt/efficient_frontier/efficient_frontier.py:248: UserWarning: max_sharpe transforms the optimization problem so additional objectives may not work as expected.\n",
      "  \"max_sharpe transforms the optimization problem so additional objectives may not work as expected.\"\n"
     ]
    },
    {
     "data": {
      "text/plain": [
       "(0.28221668383820614, 0.2583957205268486, 1.0147872546169374)"
      ]
     },
     "execution_count": 23,
     "metadata": {},
     "output_type": "execute_result"
    }
   ],
   "source": [
    "# using the computed black-litterman model\n",
    "al = AssetAllocation(bl.ret_bl, bl.S_bl, \"markowitz-regularized\")\n",
    "al.portfolio_perf"
   ]
  },
  {
   "cell_type": "code",
   "execution_count": 24,
   "id": "funded-space",
   "metadata": {},
   "outputs": [
    {
     "data": {
      "text/plain": [
       "OrderedDict([('AAPL', 0.10436),\n",
       "             ('AMZN', 0.11523),\n",
       "             ('ASML', 0.09511),\n",
       "             ('FB', 0.12087),\n",
       "             ('GOOGL', 0.11327),\n",
       "             ('MA', 0.0856),\n",
       "             ('MELI', 0.10024),\n",
       "             ('NVDA', 0.1031),\n",
       "             ('TSLA', 0.08596),\n",
       "             ('V', 0.07626)])"
      ]
     },
     "execution_count": 24,
     "metadata": {},
     "output_type": "execute_result"
    }
   ],
   "source": [
    "# portfolio weights\n",
    "al.weights"
   ]
  },
  {
   "cell_type": "code",
   "execution_count": null,
   "id": "elementary-pencil",
   "metadata": {},
   "outputs": [],
   "source": []
  }
 ],
 "metadata": {
  "kernelspec": {
   "display_name": "Python 3",
   "language": "python",
   "name": "python3"
  },
  "language_info": {
   "codemirror_mode": {
    "name": "ipython",
    "version": 3
   },
   "file_extension": ".py",
   "mimetype": "text/x-python",
   "name": "python",
   "nbconvert_exporter": "python",
   "pygments_lexer": "ipython3",
   "version": "3.7.5"
  }
 },
 "nbformat": 4,
 "nbformat_minor": 5
}
