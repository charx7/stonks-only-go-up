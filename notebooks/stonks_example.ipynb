{
 "cells": [
  {
   "cell_type": "code",
   "execution_count": 1,
   "id": "chemical-tiger",
   "metadata": {},
   "outputs": [],
   "source": [
    "from stonks.data.data_reader import MktDataReader\n",
    "\n",
    "\n",
    "from pypfopt.expected_returns import mean_historical_return\n",
    "from pypfopt.risk_models import CovarianceShrinkage\n",
    "from pypfopt.efficient_frontier import EfficientFrontier\n",
    "from pypfopt import objective_functions "
   ]
  },
  {
   "cell_type": "code",
   "execution_count": 2,
   "id": "known-holly",
   "metadata": {},
   "outputs": [
    {
     "name": "stdout",
     "output_type": "stream",
     "text": [
      "[*********************100%***********************]  10 of 10 completed\n"
     ]
    }
   ],
   "source": [
    "tickers = [\n",
    "    'AAPL', # Apple -> tech\n",
    "    'TSLA', # Tesla -> tech\n",
    "    'GOOGL', # Google -> tech\n",
    "    'AMZN', # Amazon -> consumer/tech\n",
    "    'MA', # MasterCard -> finance\n",
    "    'V', # Visa -> finance\n",
    "    'MELI', # MercadoLibre -> consumer\n",
    "    'NVDA', # Nvidia -> chips\n",
    "    'ASML', # ASML -> chips\n",
    "    'FB' # facebook -> social media\n",
    "]\n",
    "\n",
    "# We would like all available data from 01/01/2000 until 12/31/2016.\n",
    "start_date = '2008-01-01'\n",
    "end_date = '2021-04-05'\n",
    "\n",
    "dr = MktDataReader(start_date, end_date, 'yahoo', tickers)"
   ]
  },
  {
   "cell_type": "code",
   "execution_count": 3,
   "id": "opened-rough",
   "metadata": {},
   "outputs": [],
   "source": [
    "# impute missing data\n",
    "dr.impute_missing_data()\n",
    "# fetch market caps\n",
    "dr.fetch_market_caps()"
   ]
  },
  {
   "cell_type": "code",
   "execution_count": 6,
   "id": "equivalent-savings",
   "metadata": {},
   "outputs": [
    {
     "name": "stdout",
     "output_type": "stream",
     "text": [
      "OrderedDict([('AAPL', 0.11133), ('AMZN', 0.14094), ('ASML', 0.12624), ('FB', 0.07028), ('GOOGL', 0.01964), ('MA', 0.09401), ('MELI', 0.0556), ('NVDA', 0.05144), ('TSLA', 0.22766), ('V', 0.10285)])\n",
      "Expected annual return: 30.0%\n",
      "Annual volatility: 26.4%\n",
      "Sharpe Ratio: 1.06\n"
     ]
    },
    {
     "name": "stderr",
     "output_type": "stream",
     "text": [
      "/home/charx/python-virtual-environments/stonks-env/lib/python3.7/site-packages/pypfopt/efficient_frontier/efficient_frontier.py:248: UserWarning: max_sharpe transforms the optimization problem so additional objectives may not work as expected.\n",
      "  \"max_sharpe transforms the optimization problem so additional objectives may not work as expected.\"\n"
     ]
    },
    {
     "data": {
      "text/plain": [
       "(0.2998621747002599, 0.2636093550703512, 1.0616549425022157)"
      ]
     },
     "execution_count": 6,
     "metadata": {},
     "output_type": "execute_result"
    }
   ],
   "source": [
    "# get mean and cover matrices\n",
    "mu = mean_historical_return(dr.df_stocks_bkfilled)\n",
    "S = CovarianceShrinkage(dr.df_stocks_bkfilled).ledoit_wolf()\n",
    "\n",
    "# with l2 regularization to not have 0s in the weights\n",
    "\n",
    "ef = EfficientFrontier(mu, S)\n",
    "ef.add_objective(objective_functions.L2_reg, gamma=0.5)\n",
    "w = ef.max_sharpe()\n",
    "\n",
    "cleaned_weights = ef.clean_weights()\n",
    "ef.save_weights_to_file(\"weights.txt\")  # saves to file\n",
    "print(cleaned_weights)\n",
    "ef.portfolio_performance(verbose=True)"
   ]
  },
  {
   "cell_type": "code",
   "execution_count": null,
   "id": "accomplished-spelling",
   "metadata": {},
   "outputs": [],
   "source": []
  },
  {
   "cell_type": "code",
   "execution_count": null,
   "id": "meaningful-boost",
   "metadata": {},
   "outputs": [],
   "source": []
  }
 ],
 "metadata": {
  "kernelspec": {
   "display_name": "Python 3",
   "language": "python",
   "name": "python3"
  },
  "language_info": {
   "codemirror_mode": {
    "name": "ipython",
    "version": 3
   },
   "file_extension": ".py",
   "mimetype": "text/x-python",
   "name": "python",
   "nbconvert_exporter": "python",
   "pygments_lexer": "ipython3",
   "version": "3.7.5"
  }
 },
 "nbformat": 4,
 "nbformat_minor": 5
}
