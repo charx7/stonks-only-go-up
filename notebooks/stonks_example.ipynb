{
 "cells": [
  {
   "cell_type": "code",
   "execution_count": 1,
   "id": "compact-jones",
   "metadata": {},
   "outputs": [],
   "source": [
    "from stonks.data.data_reader import MktDataReader\n",
    "from stonks.models.market_models import MarketModels\n",
    "from stonks.models.asset_allocation import AssetAllocation\n",
    "\n",
    "\n",
    "from pypfopt.expected_returns import mean_historical_return\n",
    "from pypfopt.risk_models import CovarianceShrinkage\n",
    "from pypfopt.efficient_frontier import EfficientFrontier\n",
    "from pypfopt import objective_functions "
   ]
  },
  {
   "cell_type": "code",
   "execution_count": 2,
   "id": "upset-shuttle",
   "metadata": {},
   "outputs": [
    {
     "name": "stdout",
     "output_type": "stream",
     "text": [
      "[*********************100%***********************]  10 of 10 completed\n"
     ]
    }
   ],
   "source": [
    "tickers = [\n",
    "    'AAPL', # Apple -> tech\n",
    "    'TSLA', # Tesla -> tech\n",
    "    'GOOGL', # Google -> tech\n",
    "    'AMZN', # Amazon -> consumer/tech\n",
    "    'MA', # MasterCard -> finance\n",
    "    'V', # Visa -> finance\n",
    "    'MELI', # MercadoLibre -> consumer\n",
    "    'NVDA', # Nvidia -> chips\n",
    "    'ASML', # ASML -> chips\n",
    "    'FB' # facebook -> social media\n",
    "]\n",
    "\n",
    "# We would like all available data from 01/01/2000 until 12/31/2016.\n",
    "start_date = '2008-01-01'\n",
    "end_date = '2021-04-05'\n",
    "\n",
    "dr = MktDataReader(start_date, end_date, 'yahoo', tickers)"
   ]
  },
  {
   "cell_type": "code",
   "execution_count": 3,
   "id": "determined-coordinator",
   "metadata": {},
   "outputs": [],
   "source": [
    "# impute missing data\n",
    "dr.impute_missing_data()\n",
    "# fetch market caps\n",
    "dr.fetch_market_caps()"
   ]
  },
  {
   "cell_type": "code",
   "execution_count": 4,
   "id": "rotary-florence",
   "metadata": {},
   "outputs": [],
   "source": [
    "## Fama-French"
   ]
  },
  {
   "cell_type": "code",
   "execution_count": 5,
   "id": "bizarre-picture",
   "metadata": {},
   "outputs": [
    {
     "data": {
      "text/html": [
       "<div>\n",
       "<style scoped>\n",
       "    .dataframe tbody tr th:only-of-type {\n",
       "        vertical-align: middle;\n",
       "    }\n",
       "\n",
       "    .dataframe tbody tr th {\n",
       "        vertical-align: top;\n",
       "    }\n",
       "\n",
       "    .dataframe thead th {\n",
       "        text-align: right;\n",
       "    }\n",
       "</style>\n",
       "<table border=\"1\" class=\"dataframe\">\n",
       "  <thead>\n",
       "    <tr style=\"text-align: right;\">\n",
       "      <th></th>\n",
       "      <th>Mkt-RF</th>\n",
       "      <th>SMB</th>\n",
       "      <th>HML</th>\n",
       "      <th>RMW</th>\n",
       "      <th>CMA</th>\n",
       "      <th>RF</th>\n",
       "    </tr>\n",
       "  </thead>\n",
       "  <tbody>\n",
       "    <tr>\n",
       "      <th>1963-07-01</th>\n",
       "      <td>-0.67</td>\n",
       "      <td>0.00</td>\n",
       "      <td>-0.34</td>\n",
       "      <td>-0.01</td>\n",
       "      <td>0.15</td>\n",
       "      <td>0.012</td>\n",
       "    </tr>\n",
       "    <tr>\n",
       "      <th>1963-07-02</th>\n",
       "      <td>0.79</td>\n",
       "      <td>-0.27</td>\n",
       "      <td>0.27</td>\n",
       "      <td>-0.07</td>\n",
       "      <td>-0.19</td>\n",
       "      <td>0.012</td>\n",
       "    </tr>\n",
       "    <tr>\n",
       "      <th>1963-07-03</th>\n",
       "      <td>0.63</td>\n",
       "      <td>-0.17</td>\n",
       "      <td>-0.10</td>\n",
       "      <td>0.17</td>\n",
       "      <td>-0.33</td>\n",
       "      <td>0.012</td>\n",
       "    </tr>\n",
       "    <tr>\n",
       "      <th>1963-07-05</th>\n",
       "      <td>0.40</td>\n",
       "      <td>0.08</td>\n",
       "      <td>-0.27</td>\n",
       "      <td>0.08</td>\n",
       "      <td>-0.33</td>\n",
       "      <td>0.012</td>\n",
       "    </tr>\n",
       "    <tr>\n",
       "      <th>1963-07-08</th>\n",
       "      <td>-0.63</td>\n",
       "      <td>0.04</td>\n",
       "      <td>-0.19</td>\n",
       "      <td>-0.29</td>\n",
       "      <td>0.13</td>\n",
       "      <td>0.012</td>\n",
       "    </tr>\n",
       "    <tr>\n",
       "      <th>...</th>\n",
       "      <td>...</td>\n",
       "      <td>...</td>\n",
       "      <td>...</td>\n",
       "      <td>...</td>\n",
       "      <td>...</td>\n",
       "      <td>...</td>\n",
       "    </tr>\n",
       "    <tr>\n",
       "      <th>2021-06-24</th>\n",
       "      <td>0.68</td>\n",
       "      <td>0.70</td>\n",
       "      <td>0.23</td>\n",
       "      <td>-0.39</td>\n",
       "      <td>0.23</td>\n",
       "      <td>0.000</td>\n",
       "    </tr>\n",
       "    <tr>\n",
       "      <th>2021-06-25</th>\n",
       "      <td>0.32</td>\n",
       "      <td>-0.48</td>\n",
       "      <td>0.46</td>\n",
       "      <td>-0.15</td>\n",
       "      <td>0.06</td>\n",
       "      <td>0.000</td>\n",
       "    </tr>\n",
       "    <tr>\n",
       "      <th>2021-06-28</th>\n",
       "      <td>0.23</td>\n",
       "      <td>-0.83</td>\n",
       "      <td>-1.59</td>\n",
       "      <td>-0.45</td>\n",
       "      <td>-0.17</td>\n",
       "      <td>0.000</td>\n",
       "    </tr>\n",
       "    <tr>\n",
       "      <th>2021-06-29</th>\n",
       "      <td>0.01</td>\n",
       "      <td>-0.37</td>\n",
       "      <td>-0.27</td>\n",
       "      <td>0.32</td>\n",
       "      <td>0.42</td>\n",
       "      <td>0.000</td>\n",
       "    </tr>\n",
       "    <tr>\n",
       "      <th>2021-06-30</th>\n",
       "      <td>0.08</td>\n",
       "      <td>0.13</td>\n",
       "      <td>0.78</td>\n",
       "      <td>0.70</td>\n",
       "      <td>0.62</td>\n",
       "      <td>0.000</td>\n",
       "    </tr>\n",
       "  </tbody>\n",
       "</table>\n",
       "<p>14600 rows × 6 columns</p>\n",
       "</div>"
      ],
      "text/plain": [
       "            Mkt-RF   SMB   HML   RMW   CMA     RF\n",
       "1963-07-01   -0.67  0.00 -0.34 -0.01  0.15  0.012\n",
       "1963-07-02    0.79 -0.27  0.27 -0.07 -0.19  0.012\n",
       "1963-07-03    0.63 -0.17 -0.10  0.17 -0.33  0.012\n",
       "1963-07-05    0.40  0.08 -0.27  0.08 -0.33  0.012\n",
       "1963-07-08   -0.63  0.04 -0.19 -0.29  0.13  0.012\n",
       "...            ...   ...   ...   ...   ...    ...\n",
       "2021-06-24    0.68  0.70  0.23 -0.39  0.23  0.000\n",
       "2021-06-25    0.32 -0.48  0.46 -0.15  0.06  0.000\n",
       "2021-06-28    0.23 -0.83 -1.59 -0.45 -0.17  0.000\n",
       "2021-06-29    0.01 -0.37 -0.27  0.32  0.42  0.000\n",
       "2021-06-30    0.08  0.13  0.78  0.70  0.62  0.000\n",
       "\n",
       "[14600 rows x 6 columns]"
      ]
     },
     "execution_count": 5,
     "metadata": {},
     "output_type": "execute_result"
    }
   ],
   "source": [
    "dr.ff_factors"
   ]
  },
  {
   "cell_type": "code",
   "execution_count": 4,
   "id": "introductory-awareness",
   "metadata": {},
   "outputs": [],
   "source": [
    "## Black-Litterman"
   ]
  },
  {
   "cell_type": "code",
   "execution_count": 5,
   "id": "attractive-invitation",
   "metadata": {},
   "outputs": [
    {
     "name": "stdout",
     "output_type": "stream",
     "text": [
      "[*********************100%***********************]  1 of 1 completed\n"
     ]
    }
   ],
   "source": [
    "# declare our views of the market\n",
    "viewdict = {\n",
    "    \"GOOGL\": 0.30,\n",
    "    \"FB\": 0.30,\n",
    "    \"ASML\": 0.30,\n",
    "    \"NVDA\": 0.30,\n",
    "}\n",
    "\n",
    "# how confident we are on our views\n",
    "confidences = [\n",
    "    0.8,\n",
    "    0.8,\n",
    "    0.6,\n",
    "    0.6,\n",
    "]\n",
    "\n",
    "# initiate the stonks MarketModels obj\n",
    "mmds = MarketModels(\n",
    "    dr.df_stocks_bkfilled,  # stocks historical data from the MktDataReader class\n",
    "    model = \"bl\",  # name of the model to get the estimated returns + covar matrices\n",
    "    views_dict = viewdict,  # own views on expectations of stocks\n",
    "    confidences = confidences,  # how sure are you about your views of the market\n",
    "    mcaps = dr.mcaps  # market caps from the MktDataReader class\n",
    ") "
   ]
  },
  {
   "cell_type": "code",
   "execution_count": 6,
   "id": "fifth-moses",
   "metadata": {},
   "outputs": [
    {
     "data": {
      "text/plain": [
       "{'name': 'Black-litterman',\n",
       " 'model': <pypfopt.black_litterman.BlackLittermanModel at 0x7f851891a8d0>}"
      ]
     },
     "execution_count": 6,
     "metadata": {},
     "output_type": "execute_result"
    }
   ],
   "source": [
    "# which model we used + the trained model obj\n",
    "mmds.model"
   ]
  },
  {
   "cell_type": "code",
   "execution_count": 7,
   "id": "funny-earth",
   "metadata": {},
   "outputs": [
    {
     "name": "stdout",
     "output_type": "stream",
     "text": [
      "<class 'pandas.core.series.Series'>\n",
      "<class 'pandas.core.frame.DataFrame'>\n"
     ]
    }
   ],
   "source": [
    "print(type(mmds.ret_bl))\n",
    "print(type(mmds.S_bl))"
   ]
  },
  {
   "cell_type": "code",
   "execution_count": 8,
   "id": "accomplished-tourism",
   "metadata": {},
   "outputs": [],
   "source": [
    "# asset allocation"
   ]
  },
  {
   "cell_type": "code",
   "execution_count": 16,
   "id": "passive-minute",
   "metadata": {},
   "outputs": [
    {
     "name": "stdout",
     "output_type": "stream",
     "text": [
      "Expected annual return: 28.2%\n",
      "Annual volatility: 25.8%\n",
      "Sharpe Ratio: 1.02\n"
     ]
    },
    {
     "data": {
      "text/plain": [
       "(0.28230971005424477, 0.2584102165904742, 1.0150903223379533)"
      ]
     },
     "execution_count": 16,
     "metadata": {},
     "output_type": "execute_result"
    }
   ],
   "source": [
    "# using the computed black-litterman model\n",
    "al = AssetAllocation(mmds.ret_bl, mmds.S_bl, \"markowitz-regularized\")\n",
    "al.portfolio_perf"
   ]
  },
  {
   "cell_type": "code",
   "execution_count": 15,
   "id": "protective-passenger",
   "metadata": {},
   "outputs": [
    {
     "data": {
      "text/plain": [
       "OrderedDict([('AAPL', 0.10436),\n",
       "             ('AMZN', 0.11536),\n",
       "             ('ASML', 0.09508),\n",
       "             ('FB', 0.12081),\n",
       "             ('GOOGL', 0.11316),\n",
       "             ('MA', 0.0856),\n",
       "             ('MELI', 0.10017),\n",
       "             ('NVDA', 0.10322),\n",
       "             ('TSLA', 0.08598),\n",
       "             ('V', 0.07626)])"
      ]
     },
     "execution_count": 15,
     "metadata": {},
     "output_type": "execute_result"
    }
   ],
   "source": [
    "# portfolio weights\n",
    "al.weights"
   ]
  },
  {
   "cell_type": "code",
   "execution_count": null,
   "id": "golden-residence",
   "metadata": {},
   "outputs": [],
   "source": []
  },
  {
   "cell_type": "code",
   "execution_count": null,
   "id": "divided-mauritius",
   "metadata": {},
   "outputs": [],
   "source": []
  }
 ],
 "metadata": {
  "kernelspec": {
   "display_name": "Python 3",
   "language": "python",
   "name": "python3"
  },
  "language_info": {
   "codemirror_mode": {
    "name": "ipython",
    "version": 3
   },
   "file_extension": ".py",
   "mimetype": "text/x-python",
   "name": "python",
   "nbconvert_exporter": "python",
   "pygments_lexer": "ipython3",
   "version": "3.7.5"
  }
 },
 "nbformat": 4,
 "nbformat_minor": 5
}
